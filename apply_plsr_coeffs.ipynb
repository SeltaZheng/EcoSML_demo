{
 "cells": [
  {
   "cell_type": "code",
   "execution_count": null,
   "metadata": {},
   "outputs": [],
   "source": [
    "# -*- coding: utf-8 -*-\n",
    "\n",
    "import numpy as np, os,pandas as pd,glob\n",
    "\n",
    "#-----------------define inout and output\n",
    "outdir = './output/'\n",
    "plsrDir = './coefficients/'\n",
    "specCSV = 'test_spectra.csv'\n",
    "\n",
    "plsrCSVs = glob.glob(plsrDir+'*.csv')\n",
    "plsrCSVs = sorted(plsrCSVs)\n",
    "\n",
    "df_spec = pd.read_csv(specCSV, sep=',')\n",
    "spec = df_spec.iloc[:,0:2151].values\n",
    "\n",
    "#---------------vector normalization\n",
    "spec_len = np.tile(np.linalg.norm(spec, axis=1), (spec.shape[1], 1))\n",
    "spec = spec/spec_len.T\n",
    "\n",
    "#---------------5nm resampling\n",
    "wl_step = 5\n",
    "wl = np.arange(350,2501)\n",
    "spec = spec[:,0::wl_step]\n",
    "wl = wl[0::wl_step]\n",
    "\n",
    "#----------------appyling PLSR coefficients\n",
    "df_all=pd.DataFrame()\n",
    "df_all=df_spec.iloc[:,2151:]\n",
    "\n",
    "for plsrCSV in plsrCSVs:\n",
    "    trait_model = pd.read_csv(plsrCSV, sep=',', index_col=0).values\n",
    "    intercept = trait_model[:, 0]\n",
    "    coefficients = np.array(trait_model[:, list(np.arange(1, trait_model.shape[1]))])\n",
    "    \n",
    "    traitPred = np.einsum('jl,ml->jm',spec,coefficients, optimize='optimal')\n",
    "    traitPred = traitPred + intercept\n",
    "    traitPred_mean = traitPred.mean(axis=1)\n",
    "    traitPred_std = traitPred.std(axis=1,ddof=1)\n",
    "\n",
    "    trait = os.path.basename(plsrCSV)[14:-4]\n",
    "    df_all[trait+'_mean'] = traitPred_mean\n",
    "    df_all[trait+'_std'] = traitPred_std\n",
    "\n",
    "#----------------write predicted traits to csv\n",
    "outfile = os.path.join(outdir,os.path.basename(specCSV)[:-4]+'_traits.csv')\n",
    "df_all.to_csv(outfile)\n"
   ]
  }
 ],
 "metadata": {
  "kernelspec": {
   "display_name": "Python 3",
   "language": "python",
   "name": "python3"
  },
  "language_info": {
   "codemirror_mode": {
    "name": "ipython",
    "version": 3
   },
   "file_extension": ".py",
   "mimetype": "text/x-python",
   "name": "python",
   "nbconvert_exporter": "python",
   "pygments_lexer": "ipython3",
   "version": "3.6.5"
  }
 },
 "nbformat": 4,
 "nbformat_minor": 2
}
